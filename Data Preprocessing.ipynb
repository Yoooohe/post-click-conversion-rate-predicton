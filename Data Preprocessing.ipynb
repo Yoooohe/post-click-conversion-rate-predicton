{
 "cells": [
  {
   "cell_type": "markdown",
   "metadata": {},
   "source": [
    "### 1. Dealing with missing data"
   ]
  },
  {
   "cell_type": "code",
   "execution_count": 1,
   "metadata": {},
   "outputs": [],
   "source": [
    "from pandas import Series, DataFrame\n",
    "import pandas as pd\n",
    "from numpy.random import randn\n",
    "import numpy as np\n",
    "from collections import Counter\n",
    "import time\n",
    "import seaborn as sns\n",
    "import matplotlib.pyplot as plt"
   ]
  },
  {
   "cell_type": "code",
   "execution_count": 2,
   "metadata": {},
   "outputs": [
    {
     "name": "stdout",
     "output_type": "stream",
     "text": [
      "(478138, 27) (61259, 26)\n",
      "['instance_id', 'item_id', 'item_category_list', 'item_property_list', 'item_brand_id', 'item_city_id', 'item_price_level', 'item_sales_level', 'item_collected_level', 'item_pv_level', 'user_id', 'user_gender_id', 'user_age_level', 'user_occupation_id', 'user_star_level', 'context_id', 'context_timestamp', 'context_page_id', 'predict_category_property', 'shop_id', 'shop_review_num_level', 'shop_review_positive_rate', 'shop_star_level', 'shop_score_service', 'shop_score_delivery', 'shop_score_description', 'is_trade']\n"
     ]
    }
   ],
   "source": [
    "train = pd.read_table('round1_train.txt',sep = ' ')\n",
    "test_a = pd.read_table('round1_testa.txt',sep = ' ')\n",
    "test_b = pd.read_table('round1_testb.txt',sep = ' ')\n",
    "test = pd.concat([test_a,test_b]) # combine a,b test set\n",
    "print(train.shape,test.shape)\n",
    "print(list(train.columns))"
   ]
  },
  {
   "cell_type": "code",
   "execution_count": 3,
   "metadata": {},
   "outputs": [],
   "source": [
    "# drop duplicate instances in train and test\n",
    "train.drop_duplicates(inplace = True)\n",
    "test.drop_duplicates(inplace = True)"
   ]
  },
  {
   "cell_type": "code",
   "execution_count": 4,
   "metadata": {},
   "outputs": [
    {
     "name": "stdout",
     "output_type": "stream",
     "text": [
      "positive instances num:  8994\n",
      "negative instances num:  469117\n"
     ]
    }
   ],
   "source": [
    "print('positive instances num: ',sum(train['is_trade']))\n",
    "print('negative instances num: ', train.shape[0] - sum(train['is_trade']))"
   ]
  },
  {
   "cell_type": "code",
   "execution_count": 5,
   "metadata": {},
   "outputs": [
    {
     "name": "stdout",
     "output_type": "stream",
     "text": [
      "item_brand_id 473\n",
      "item_city_id 277\n",
      "item_sales_level 913\n",
      "user_gender_id 12902\n",
      "user_age_level 964\n",
      "user_occupation_id 964\n",
      "user_star_level 964\n",
      "shop_review_positive_rate 7\n",
      "shop_score_service 59\n",
      "shop_score_delivery 59\n",
      "shop_score_description 59\n"
     ]
    }
   ],
   "source": [
    "# how many missing data in each feature?\n",
    "\n",
    "# item_brand_id: 473  \n",
    "# item_city_id: 277  \n",
    "# item_sales_level: 913  \n",
    "# user_gender_id: 12902 \n",
    "# user_age_level: 964   \n",
    "# user_star_level: 964  \n",
    "# user_occupation_id: 964  \n",
    "# shop_review_positive_rate: 7   \n",
    "# shop_score_service 59\n",
    "# shop_score_delivery 59\n",
    "# shop_score_description 59\n",
    "\n",
    "for feature in list(train):\n",
    "    missing_num = (train[feature] == -1).sum()\n",
    "    if missing_num > 0:\n",
    "        print(feature, missing_num)"
   ]
  },
  {
   "cell_type": "code",
   "execution_count": 6,
   "metadata": {},
   "outputs": [],
   "source": [
    "# fill id with the most common one or two\n",
    "def filling_id(df,feature,missing_num):\n",
    "    cc = Counter(df[feature])\n",
    "    common = cc.most_common(2)\n",
    "    # intutionly choose 5\n",
    "    if common[0][1]/common[1][1] < 5: \n",
    "        total = common[0][1] + common[1][1]\n",
    "        p = [common[0][1]/total, common[1][1]/total]\n",
    "        replace = np.random.choice([common[0][0], common[0][1]],missing_num,p)\n",
    "        df.loc[df[feature] == -1, feature] = replace\n",
    "    else:\n",
    "        df.loc[df[feature] == -1, feature] = common[0][0]\n",
    "    return df\n",
    "\n",
    "train= filling_id(train, 'item_brand_id', 473)\n",
    "train = filling_id(train,'item_city_id', 277)\n",
    "train = filling_id(train,'user_gender_id',12902)\n",
    "train = filling_id(train,'user_occupation_id',964)"
   ]
  },
  {
   "cell_type": "code",
   "execution_count": 7,
   "metadata": {},
   "outputs": [],
   "source": [
    "# filling level with the most common six values\n",
    "def filling_level(df,feature,missing_num):\n",
    "    cc = Counter(df[feature])\n",
    "    # intutionly choose 6\n",
    "    common = cc.most_common(6)\n",
    "    total = 0\n",
    "    p = []\n",
    "    replace_list = []\n",
    "    for i in common:\n",
    "        total += i[1]\n",
    "    for i in common:\n",
    "        p.append(i[1]/total)\n",
    "        replace_list.append(i[0])\n",
    "    replace = np.random.choice(replace_list,missing_num,p)\n",
    "    df.loc[df[feature] == -1, feature] = replace\n",
    "    return df\n",
    "\n",
    "train = filling_level(train,'item_sales_level', 913)\n",
    "train = filling_level(train,'user_age_level', 964)\n",
    "train = filling_level(train, 'user_star_level', 964)"
   ]
  },
  {
   "cell_type": "code",
   "execution_count": 8,
   "metadata": {},
   "outputs": [],
   "source": [
    "# replace missing data in these three columns with average\n",
    "items = ['shop_score_service', 'shop_score_delivery', 'shop_score_description']\n",
    "shop_service_mean = train.loc[train[items[0]] != -1, items[0]].mean()\n",
    "train.loc[train[items[0]] == -1, items[0]] = shop_service_mean\n",
    "shop_delivery_mean = train.loc[train[items[1]] != -1, items[1]].mean()\n",
    "train.loc[train[items[1]] == -1, items[1]] = shop_delivery_mean\n",
    "shop_description_mean = train.loc[train[items[2]] != -1, items[2]].mean()\n",
    "train.loc[train[items[2]] == -1, items[2]] = shop_description_mean"
   ]
  },
  {
   "cell_type": "code",
   "execution_count": 9,
   "metadata": {},
   "outputs": [
    {
     "name": "stdout",
     "output_type": "stream",
     "text": [
      "[(1.0, 265918), (0.9970402457701614, 1852)]\n"
     ]
    }
   ],
   "source": [
    "# filling shop_review_positive_rate\n",
    "cc = Counter(train['shop_review_positive_rate'])\n",
    "print(cc.most_common(2))\n",
    "train.loc[train['shop_review_positive_rate'] == -1, 'shop_review_positive_rate'] = 1"
   ]
  },
  {
   "cell_type": "code",
   "execution_count": 10,
   "metadata": {},
   "outputs": [
    {
     "data": {
      "text/html": [
       "<div>\n",
       "<style scoped>\n",
       "    .dataframe tbody tr th:only-of-type {\n",
       "        vertical-align: middle;\n",
       "    }\n",
       "\n",
       "    .dataframe tbody tr th {\n",
       "        vertical-align: top;\n",
       "    }\n",
       "\n",
       "    .dataframe thead th {\n",
       "        text-align: right;\n",
       "    }\n",
       "</style>\n",
       "<table border=\"1\" class=\"dataframe\">\n",
       "  <thead>\n",
       "    <tr style=\"text-align: right;\">\n",
       "      <th></th>\n",
       "      <th>instance_id</th>\n",
       "      <th>item_id</th>\n",
       "      <th>item_category_list</th>\n",
       "      <th>item_property_list</th>\n",
       "      <th>item_brand_id</th>\n",
       "      <th>item_city_id</th>\n",
       "      <th>item_price_level</th>\n",
       "      <th>item_sales_level</th>\n",
       "      <th>item_collected_level</th>\n",
       "      <th>item_pv_level</th>\n",
       "      <th>...</th>\n",
       "      <th>context_page_id</th>\n",
       "      <th>predict_category_property</th>\n",
       "      <th>shop_id</th>\n",
       "      <th>shop_review_num_level</th>\n",
       "      <th>shop_review_positive_rate</th>\n",
       "      <th>shop_star_level</th>\n",
       "      <th>shop_score_service</th>\n",
       "      <th>shop_score_delivery</th>\n",
       "      <th>shop_score_description</th>\n",
       "      <th>is_trade</th>\n",
       "    </tr>\n",
       "  </thead>\n",
       "  <tbody>\n",
       "    <tr>\n",
       "      <th>0</th>\n",
       "      <td>108641074714126964</td>\n",
       "      <td>3412720377098676069</td>\n",
       "      <td>7908382889764677758;5799347067982556520</td>\n",
       "      <td>2072967855524022579;5131280576272319091;263639...</td>\n",
       "      <td>1975590437749032870</td>\n",
       "      <td>3948283326616421003</td>\n",
       "      <td>3</td>\n",
       "      <td>3</td>\n",
       "      <td>4</td>\n",
       "      <td>14</td>\n",
       "      <td>...</td>\n",
       "      <td>4006</td>\n",
       "      <td>5799347067982556520:-1;509660095530134768:-1;5...</td>\n",
       "      <td>6765930309048922341</td>\n",
       "      <td>4</td>\n",
       "      <td>1.0</td>\n",
       "      <td>5002</td>\n",
       "      <td>1.0</td>\n",
       "      <td>1.0</td>\n",
       "      <td>1.0</td>\n",
       "      <td>0</td>\n",
       "    </tr>\n",
       "    <tr>\n",
       "      <th>1</th>\n",
       "      <td>5754713551599725161</td>\n",
       "      <td>3412720377098676069</td>\n",
       "      <td>7908382889764677758;5799347067982556520</td>\n",
       "      <td>2072967855524022579;5131280576272319091;263639...</td>\n",
       "      <td>1975590437749032870</td>\n",
       "      <td>3948283326616421003</td>\n",
       "      <td>3</td>\n",
       "      <td>3</td>\n",
       "      <td>4</td>\n",
       "      <td>14</td>\n",
       "      <td>...</td>\n",
       "      <td>4001</td>\n",
       "      <td>5799347067982556520:9172976955054793469;790838...</td>\n",
       "      <td>6765930309048922341</td>\n",
       "      <td>4</td>\n",
       "      <td>1.0</td>\n",
       "      <td>5002</td>\n",
       "      <td>1.0</td>\n",
       "      <td>1.0</td>\n",
       "      <td>1.0</td>\n",
       "      <td>0</td>\n",
       "    </tr>\n",
       "    <tr>\n",
       "      <th>2</th>\n",
       "      <td>842679481291040981</td>\n",
       "      <td>3412720377098676069</td>\n",
       "      <td>7908382889764677758;5799347067982556520</td>\n",
       "      <td>2072967855524022579;5131280576272319091;263639...</td>\n",
       "      <td>1975590437749032870</td>\n",
       "      <td>3948283326616421003</td>\n",
       "      <td>3</td>\n",
       "      <td>3</td>\n",
       "      <td>4</td>\n",
       "      <td>14</td>\n",
       "      <td>...</td>\n",
       "      <td>4001</td>\n",
       "      <td>5799347067982556520:5131280576272319091;725801...</td>\n",
       "      <td>6765930309048922341</td>\n",
       "      <td>4</td>\n",
       "      <td>1.0</td>\n",
       "      <td>5002</td>\n",
       "      <td>1.0</td>\n",
       "      <td>1.0</td>\n",
       "      <td>1.0</td>\n",
       "      <td>0</td>\n",
       "    </tr>\n",
       "    <tr>\n",
       "      <th>3</th>\n",
       "      <td>937088850059189027</td>\n",
       "      <td>3412720377098676069</td>\n",
       "      <td>7908382889764677758;5799347067982556520</td>\n",
       "      <td>2072967855524022579;5131280576272319091;263639...</td>\n",
       "      <td>1975590437749032870</td>\n",
       "      <td>3948283326616421003</td>\n",
       "      <td>3</td>\n",
       "      <td>3</td>\n",
       "      <td>4</td>\n",
       "      <td>14</td>\n",
       "      <td>...</td>\n",
       "      <td>4016</td>\n",
       "      <td>509660095530134768:-1;5799347067982556520:-1;7...</td>\n",
       "      <td>6765930309048922341</td>\n",
       "      <td>4</td>\n",
       "      <td>1.0</td>\n",
       "      <td>5002</td>\n",
       "      <td>1.0</td>\n",
       "      <td>1.0</td>\n",
       "      <td>1.0</td>\n",
       "      <td>0</td>\n",
       "    </tr>\n",
       "    <tr>\n",
       "      <th>4</th>\n",
       "      <td>7975697065017708072</td>\n",
       "      <td>3412720377098676069</td>\n",
       "      <td>7908382889764677758;5799347067982556520</td>\n",
       "      <td>2072967855524022579;5131280576272319091;263639...</td>\n",
       "      <td>1975590437749032870</td>\n",
       "      <td>3948283326616421003</td>\n",
       "      <td>3</td>\n",
       "      <td>3</td>\n",
       "      <td>4</td>\n",
       "      <td>14</td>\n",
       "      <td>...</td>\n",
       "      <td>4001</td>\n",
       "      <td>5799347067982556520:9172976955054793469;790838...</td>\n",
       "      <td>6765930309048922341</td>\n",
       "      <td>4</td>\n",
       "      <td>1.0</td>\n",
       "      <td>5002</td>\n",
       "      <td>1.0</td>\n",
       "      <td>1.0</td>\n",
       "      <td>1.0</td>\n",
       "      <td>0</td>\n",
       "    </tr>\n",
       "  </tbody>\n",
       "</table>\n",
       "<p>5 rows × 27 columns</p>\n",
       "</div>"
      ],
      "text/plain": [
       "           instance_id              item_id  \\\n",
       "0   108641074714126964  3412720377098676069   \n",
       "1  5754713551599725161  3412720377098676069   \n",
       "2   842679481291040981  3412720377098676069   \n",
       "3   937088850059189027  3412720377098676069   \n",
       "4  7975697065017708072  3412720377098676069   \n",
       "\n",
       "                        item_category_list  \\\n",
       "0  7908382889764677758;5799347067982556520   \n",
       "1  7908382889764677758;5799347067982556520   \n",
       "2  7908382889764677758;5799347067982556520   \n",
       "3  7908382889764677758;5799347067982556520   \n",
       "4  7908382889764677758;5799347067982556520   \n",
       "\n",
       "                                  item_property_list        item_brand_id  \\\n",
       "0  2072967855524022579;5131280576272319091;263639...  1975590437749032870   \n",
       "1  2072967855524022579;5131280576272319091;263639...  1975590437749032870   \n",
       "2  2072967855524022579;5131280576272319091;263639...  1975590437749032870   \n",
       "3  2072967855524022579;5131280576272319091;263639...  1975590437749032870   \n",
       "4  2072967855524022579;5131280576272319091;263639...  1975590437749032870   \n",
       "\n",
       "          item_city_id  item_price_level  item_sales_level  \\\n",
       "0  3948283326616421003                 3                 3   \n",
       "1  3948283326616421003                 3                 3   \n",
       "2  3948283326616421003                 3                 3   \n",
       "3  3948283326616421003                 3                 3   \n",
       "4  3948283326616421003                 3                 3   \n",
       "\n",
       "   item_collected_level  item_pv_level    ...     context_page_id  \\\n",
       "0                     4             14    ...                4006   \n",
       "1                     4             14    ...                4001   \n",
       "2                     4             14    ...                4001   \n",
       "3                     4             14    ...                4016   \n",
       "4                     4             14    ...                4001   \n",
       "\n",
       "                           predict_category_property              shop_id  \\\n",
       "0  5799347067982556520:-1;509660095530134768:-1;5...  6765930309048922341   \n",
       "1  5799347067982556520:9172976955054793469;790838...  6765930309048922341   \n",
       "2  5799347067982556520:5131280576272319091;725801...  6765930309048922341   \n",
       "3  509660095530134768:-1;5799347067982556520:-1;7...  6765930309048922341   \n",
       "4  5799347067982556520:9172976955054793469;790838...  6765930309048922341   \n",
       "\n",
       "   shop_review_num_level  shop_review_positive_rate  shop_star_level  \\\n",
       "0                      4                        1.0             5002   \n",
       "1                      4                        1.0             5002   \n",
       "2                      4                        1.0             5002   \n",
       "3                      4                        1.0             5002   \n",
       "4                      4                        1.0             5002   \n",
       "\n",
       "   shop_score_service  shop_score_delivery shop_score_description  is_trade  \n",
       "0                 1.0                  1.0                    1.0         0  \n",
       "1                 1.0                  1.0                    1.0         0  \n",
       "2                 1.0                  1.0                    1.0         0  \n",
       "3                 1.0                  1.0                    1.0         0  \n",
       "4                 1.0                  1.0                    1.0         0  \n",
       "\n",
       "[5 rows x 27 columns]"
      ]
     },
     "execution_count": 10,
     "metadata": {},
     "output_type": "execute_result"
    }
   ],
   "source": [
    "train.head()\n"
   ]
  },
  {
   "cell_type": "markdown",
   "metadata": {},
   "source": [
    "### 2. Deal with timestamp"
   ]
  },
  {
   "cell_type": "code",
   "execution_count": 11,
   "metadata": {},
   "outputs": [],
   "source": [
    "# convert timestamp to date\n",
    "def timestamp_datetime(stamp):\n",
    "    struct_time = time.localtime(stamp)\n",
    "    date_time = time.strftime('%Y-%M-%d %H:%M:%S', struct_time)\n",
    "    return date_time\n",
    "\n",
    "def convert_date_time(df):\n",
    "    df['datetime'] = df.context_timestamp.apply(timestamp_datetime)\n",
    "    df['day'] = df.datetime.apply(lambda x: int(x[8:10]))\n",
    "    df['hour'] = df.datetime.apply(lambda x: int(x[11:13]))\n",
    "    df['time'] = df.datetime.apply(lambda x: x[11:])\n",
    "    return df\n",
    "\n",
    "train = convert_date_time(train)\n",
    "test = convert_date_time(test)"
   ]
  },
  {
   "cell_type": "code",
   "execution_count": 12,
   "metadata": {},
   "outputs": [],
   "source": [
    "# how many days in the dataset?\n",
    "# how many samples in each day?\n",
    "cc_train = Counter(train['day'])\n",
    "cc_test = Counter(test['day'])"
   ]
  },
  {
   "cell_type": "code",
   "execution_count": 13,
   "metadata": {},
   "outputs": [
    {
     "name": "stdout",
     "output_type": "stream",
     "text": [
      "[0.02459727983023054, 0.01895510632711998, 0.019108745869762273, 0.01879891119428377, 0.020147202016152128, 0.019324731560314813, 0.016210461796538542, 0.016020155923179312]\n"
     ]
    }
   ],
   "source": [
    "# what's conversion rate in each day? Is there any special promotion day?\n",
    "days = cc_train.keys()\n",
    "conv_rates = []\n",
    "for day in days:\n",
    "    conv_rate = train[train['day'] == day]['is_trade'].sum() / len(train[train['day'] == day])\n",
    "    conv_rates.append(conv_rate)\n",
    "print(conv_rates)"
   ]
  },
  {
   "cell_type": "code",
   "execution_count": 14,
   "metadata": {},
   "outputs": [],
   "source": [
    "# convert hour into midnight(0/24-7), morning(7-13), afternoon(13-19), night(19-24).\n",
    "def convert_to_timeslot(data):\n",
    "    data['is_midnight'], data['is_morning'], data['is_afternoon'],data['is_night'] = -1, -1, -1, -1\n",
    "    data['is_midnight'] = (data['hour'] <= 7).astype('int')\n",
    "    data['is_morning'] = ((data['hour'] > 7) & (data['hour'] <= 13)).astype('int')\n",
    "    data['is_afternoon'] = ((data['hour'] > 13) & (data['hour'] <= 19)).astype('int')\n",
    "    data['is_night'] = (data['hour'] > 19).astype('int')\n",
    "    return data\n",
    "\n",
    "train = convert_to_timeslot(train)\n",
    "test = convert_to_timeslot(test)\n"
   ]
  },
  {
   "cell_type": "markdown",
   "metadata": {},
   "source": [
    "### 3. Dealing with categorical feature  \n",
    "#### item_category_list & item_property_list & predict_category_property    \n",
    " `['item_category_list']`: lists of the item's properties, of type String. The format is combined as \"category_0; category_1; category_2\", starting from the root category (the high-level category) to the lead category (the most detailed category).       \n",
    "`['item_property_list']`: lists of item's properties, of type String. The format is combined as \"property_0; property_1; property_2\". Each property has no affiliation with the others.     \n",
    "`['predict_category_property']`: lists of the predicted categories and properties, of type String. The format is combined as \"category A: property_A_1, property_A_2, property_A_3; catgory B: property_B_1, property_B_2, property_B_3\""
   ]
  },
  {
   "cell_type": "code",
   "execution_count": 16,
   "metadata": {},
   "outputs": [],
   "source": [
    "# Since we observe that the root category is always the same in our dataset (7908382889764677758), \n",
    "# and there are two categories in the dataset, we only consider the second one \n",
    "train['item_category'] = train['item_category_list'].apply(lambda x: str(x).split(';')[1])\n",
    "test['item_category'] = test['item_category_list'].apply(lambda x: str(x).split(';')[1])"
   ]
  },
  {
   "cell_type": "code",
   "execution_count": 17,
   "metadata": {},
   "outputs": [],
   "source": [
    "# item_category_list & item_property_list & predict_category_property\n",
    "def extract_pred_cate_props(data):\n",
    "    # extract category and property list from predict_cate_prop_lists \n",
    "    pred_cate_prop_lists = list(data['predict_category_property'].str.split(';'))\n",
    "    pred_cate_lists = []\n",
    "    pred_prop_lists = []\n",
    "    for pred_cate_props in pred_cate_prop_lists:\n",
    "        pred_cate_list = []\n",
    "        pred_prop_list = []\n",
    "        \n",
    "        if pred_cate_props == ['-1']:\n",
    "            pred_cate_lists.append('-1')\n",
    "            pred_prop_lists.append('-1')\n",
    "            continue\n",
    "        \n",
    "        for pred_cate_prop in pred_cate_props:\n",
    "            cate = pred_cate_prop.split(':')[0]\n",
    "            if cate not in pred_cate_list:\n",
    "                pred_cate_list.append(cate)\n",
    "                \n",
    "            props = pred_cate_prop.split(':')[1]\n",
    "            props = props.split(',')\n",
    "            for p in props:\n",
    "                if p not in pred_prop_list:\n",
    "                    pred_prop_list.append(p)\n",
    "                    \n",
    "        pred_cate_lists.append(pred_cate_list)\n",
    "        pred_prop_lists.append(pred_prop_list)\n",
    "    return pred_cate_lists, pred_prop_lists\n",
    "    "
   ]
  },
  {
   "cell_type": "code",
   "execution_count": 18,
   "metadata": {},
   "outputs": [],
   "source": [
    "def calc_cate_prop_precision_recall(data):\n",
    "    cate_lists = list(data['item_category_list'].str.split(';')) \n",
    "    prop_lists = list(data['item_property_list'].str.split(';')) \n",
    "    pred_cate_lists, pred_prop_lists = extract_pred_cate_props(data)\n",
    "    \n",
    "    cate_precision_list = []\n",
    "    cate_recall_list = []\n",
    "    for pred_cate, cate in zip(pred_cate_lists, cate_lists):\n",
    "        count = 0\n",
    "        for i in pred_cate:\n",
    "            if i in cate:\n",
    "                count += 1\n",
    "        cate_precision = count / len(pred_cate)\n",
    "        cate_recall = count/len(cate)\n",
    "        \n",
    "        cate_precision_list.append(cate_precision)\n",
    "        cate_recall_list.append(cate_recall)\n",
    "    \n",
    "    # Question: how to deal with missing data in category and property list????\n",
    "    prop_precision_list = []\n",
    "    prop_recall_list = []\n",
    "    for pred_prop, prop in zip(pred_prop_lists, prop_lists):\n",
    "        count = 0\n",
    "        for i in pred_prop:\n",
    "            if i in prop:\n",
    "                count += 1\n",
    "        prop_precision = count / len(pred_prop)\n",
    "        prop_recall = count/len(prop)\n",
    "        \n",
    "        prop_precision_list.append(prop_precision)\n",
    "        prop_recall_list.append(prop_recall)\n",
    "    \n",
    "    return cate_precision_list, cate_recall_list, prop_precision_list, prop_recall_list "
   ]
  },
  {
   "cell_type": "code",
   "execution_count": 19,
   "metadata": {},
   "outputs": [],
   "source": [
    "cate_precision_list, cate_recall_list, prop_precision_list, prop_recall_list = calc_cate_prop_precision_recall(train)\n",
    "train['cate_precision'] = cate_precision_list\n",
    "train['cate_recall'] = cate_recall_list\n",
    "train['prop_precision'] = prop_precision_list\n",
    "train['prop_recall'] = prop_recall_list\n",
    "train.drop(['item_category_list', 'predict_category_property'],axis=1,inplace=True)\n",
    "\n",
    "cate_precision_list, cate_recall_list, prop_precision_list, prop_recall_list = calc_cate_prop_precision_recall(test)\n",
    "test['cate_precision'] = cate_precision_list\n",
    "test['cate_recall'] = cate_recall_list\n",
    "test['prop_precision'] = prop_precision_list\n",
    "test['prop_recall'] = prop_recall_list\n",
    "test.drop(['item_category_list', 'predict_category_property'],axis=1,inplace=True)"
   ]
  },
  {
   "cell_type": "markdown",
   "metadata": {},
   "source": [
    "### 4. Dealing with continuous feature   \n",
    "For some of continuous features, if they do not show clear linear relation with label, we may need to divide them into different section to find out the clear correlation.\n",
    "\n",
    "`['item_price_level'], ['item_sales_level'], ['item_collected_level'], ['item_pv_level']`     \n",
    "`['user_age_level'], ['user_star_level']`   \n",
    "`['shop_review_num_level'], ['shop_review_positive_rate'], ['shop_star_level'], ['shop_score_service'], ['shop_score_delivery'], ['shop_score_description']`"
   ]
  },
  {
   "cell_type": "code",
   "execution_count": 20,
   "metadata": {},
   "outputs": [
    {
     "data": {
      "text/plain": [
       "<matplotlib.axes._subplots.AxesSubplot at 0x11740ca90>"
      ]
     },
     "execution_count": 20,
     "metadata": {},
     "output_type": "execute_result"
    },
    {
     "data": {
      "image/png": "[encoded data removed]",
      "text/plain": [
       "<Figure size 432x288 with 1 Axes>"
      ]
     },
     "metadata": {},
     "output_type": "display_data"
    }
   ],
   "source": [
    "# item_price_level:\n",
    "# we can see that is_trade decreasing with item_price_level increasing.\n",
    "# the higher the price, the less trade probability\n",
    "\n",
    "# item_sales_level:\n",
    "# in general, the higher the item_sales_level, the higher trade probability\n",
    "\n",
    "# item_collected_level: \n",
    "# in general, the higher the item_collected_level, the higher trade probability\n",
    "\n",
    "# item_pv_level: \n",
    "# extrordinarly high in 3 level. is_trade subtly increasing with item_pv_level\n",
    "\n",
    "sns.pointplot(x='item_price_level', y='is_trade', data=train)\n",
    "#sns.pointplot(x='item_sales_level', y='is_trade', data=train)\n",
    "#sns.pointplot(x='item_collected_level', y='is_trade', data=train)\n",
    "#sns.pointplot(x='item_pv_level', y='is_trade', data=train)"
   ]
  },
  {
   "cell_type": "code",
   "execution_count": 21,
   "metadata": {},
   "outputs": [
    {
     "data": {
      "text/plain": [
       "<matplotlib.axes._subplots.AxesSubplot at 0x1a303ca588>"
      ]
     },
     "execution_count": 21,
     "metadata": {},
     "output_type": "execute_result"
    },
    {
     "data": {
      "image/png": "[encoded data removed]",
      "text/plain": [
       "<Figure size 432x288 with 1 Axes>"
      ]
     },
     "metadata": {},
     "output_type": "display_data"
    }
   ],
   "source": [
    "# user_age_level:\n",
    "# is_trade increase with user_age_level increase\n",
    "\n",
    "# user_star_level: \n",
    "# subtly increase as user_start_level increase, and extraordinarly large in 3010 \n",
    "sns.pointplot(x='user_age_level', y='is_trade', data=train)\n",
    "#sns.pointplot(x='user_star_level', y='is_trade', data=train)"
   ]
  },
  {
   "cell_type": "code",
   "execution_count": 22,
   "metadata": {},
   "outputs": [
    {
     "data": {
      "text/plain": [
       "<matplotlib.axes._subplots.AxesSubplot at 0x1a9fb98860>"
      ]
     },
     "execution_count": 22,
     "metadata": {},
     "output_type": "execute_result"
    },
    {
     "data": {
      "image/png": "[encoded data removed]",
      "text/plain": [
       "<Figure size 432x288 with 1 Axes>"
      ]
     },
     "metadata": {},
     "output_type": "display_data"
    }
   ],
   "source": [
    "sns.pointplot(x='shop_review_num_level', y='is_trade', data=train)\n",
    "sns.pointplot(x='shop_star_level', y='is_trade', data=train)\n",
    "\n",
    "# the remaining four plots are too intensive, and are not discrimincative\n",
    "# thus, we want to divide them into different section\n",
    "\n",
    "# sns.pointplot(x='shop_review_positive_rate', y='is_trade', data=train)\n",
    "# sns.pointplot(x='shop_score_service', y='is_trade', data=train)\n",
    "# sns.pointplot(x='shop_score_delivery', y='is_trade', data=train)\n",
    "# sns.pointplot(x='shop_score_description', y='is_trade', data=train)"
   ]
  },
  {
   "cell_type": "code",
   "execution_count": 23,
   "metadata": {},
   "outputs": [
    {
     "data": {
      "text/plain": [
       "shop_score_description    0.965535\n",
       "Name: 0.2, dtype: float64"
      ]
     },
     "execution_count": 23,
     "metadata": {},
     "output_type": "execute_result"
    }
   ],
   "source": [
    "train[['shop_score_description']].quantile(0.20)"
   ]
  },
  {
   "cell_type": "code",
   "execution_count": 24,
   "metadata": {},
   "outputs": [
    {
     "data": {
      "text/plain": [
       "\"\\ndef f(x):\\n    if x > 0.984:\\n        return 2\\n    elif x > 0.97 and x <= 0.984:\\n        return 1\\n    else:\\n        return 0\\ntrain['shop_score_description'] = train'shop_score_description'].apply(f)\\nsns.pointplot(x = 'shop_score_description', y = 'is_trade', data=train)\\n\""
      ]
     },
     "execution_count": 24,
     "metadata": {},
     "output_type": "execute_result"
    }
   ],
   "source": [
    "'''\n",
    "def f(x):\n",
    "    if x > 0.984:\n",
    "        return 2\n",
    "    elif x > 0.97 and x <= 0.984:\n",
    "        return 1\n",
    "    else:\n",
    "        return 0\n",
    "train['shop_score_description'] = train'shop_score_description'].apply(f)\n",
    "sns.pointplot(x = 'shop_score_description', y = 'is_trade', data=train)\n",
    "'''"
   ]
  },
  {
   "cell_type": "code",
   "execution_count": 25,
   "metadata": {},
   "outputs": [],
   "source": [
    "train.to_csv('data/complete_train.csv', index = None)\n",
    "test.to_csv('data/test.csv',index = None)"
   ]
  },
  {
   "cell_type": "code",
   "execution_count": 26,
   "metadata": {},
   "outputs": [
    {
     "data": {
      "text/plain": [
       "Index(['instance_id', 'item_id', 'item_property_list', 'item_brand_id',\n",
       "       'item_city_id', 'item_price_level', 'item_sales_level',\n",
       "       'item_collected_level', 'item_pv_level', 'user_id', 'user_gender_id',\n",
       "       'user_age_level', 'user_occupation_id', 'user_star_level', 'context_id',\n",
       "       'context_timestamp', 'context_page_id', 'shop_id',\n",
       "       'shop_review_num_level', 'shop_review_positive_rate', 'shop_star_level',\n",
       "       'shop_score_service', 'shop_score_delivery', 'shop_score_description',\n",
       "       'is_trade', 'datetime', 'day', 'hour', 'time', 'is_midnight',\n",
       "       'is_morning', 'is_afternoon', 'is_night', 'item_category',\n",
       "       'cate_precision', 'cate_recall', 'prop_precision', 'prop_recall'],\n",
       "      dtype='object')"
      ]
     },
     "execution_count": 26,
     "metadata": {},
     "output_type": "execute_result"
    }
   ],
   "source": [
    "train.columns"
   ]
  },
  {
   "cell_type": "code",
   "execution_count": 27,
   "metadata": {},
   "outputs": [
    {
     "data": {
      "text/html": [
       "<div>\n",
       "<style scoped>\n",
       "    .dataframe tbody tr th:only-of-type {\n",
       "        vertical-align: middle;\n",
       "    }\n",
       "\n",
       "    .dataframe tbody tr th {\n",
       "        vertical-align: top;\n",
       "    }\n",
       "\n",
       "    .dataframe thead th {\n",
       "        text-align: right;\n",
       "    }\n",
       "</style>\n",
       "<table border=\"1\" class=\"dataframe\">\n",
       "  <thead>\n",
       "    <tr style=\"text-align: right;\">\n",
       "      <th></th>\n",
       "      <th>instance_id</th>\n",
       "      <th>item_id</th>\n",
       "      <th>item_property_list</th>\n",
       "      <th>item_brand_id</th>\n",
       "      <th>item_city_id</th>\n",
       "      <th>item_price_level</th>\n",
       "      <th>item_sales_level</th>\n",
       "      <th>item_collected_level</th>\n",
       "      <th>item_pv_level</th>\n",
       "      <th>user_id</th>\n",
       "      <th>...</th>\n",
       "      <th>time</th>\n",
       "      <th>is_midnight</th>\n",
       "      <th>is_morning</th>\n",
       "      <th>is_afternoon</th>\n",
       "      <th>is_night</th>\n",
       "      <th>item_category</th>\n",
       "      <th>cate_precision</th>\n",
       "      <th>cate_recall</th>\n",
       "      <th>prop_precision</th>\n",
       "      <th>prop_recall</th>\n",
       "    </tr>\n",
       "  </thead>\n",
       "  <tbody>\n",
       "    <tr>\n",
       "      <th>0</th>\n",
       "      <td>108641074714126964</td>\n",
       "      <td>3412720377098676069</td>\n",
       "      <td>2072967855524022579;5131280576272319091;263639...</td>\n",
       "      <td>1975590437749032870</td>\n",
       "      <td>3948283326616421003</td>\n",
       "      <td>3</td>\n",
       "      <td>3</td>\n",
       "      <td>4</td>\n",
       "      <td>14</td>\n",
       "      <td>4505772604969228686</td>\n",
       "      <td>...</td>\n",
       "      <td>22:09:04</td>\n",
       "      <td>0</td>\n",
       "      <td>0</td>\n",
       "      <td>0</td>\n",
       "      <td>1</td>\n",
       "      <td>5799347067982556520</td>\n",
       "      <td>0.400000</td>\n",
       "      <td>1.0</td>\n",
       "      <td>0.0</td>\n",
       "      <td>0.000000</td>\n",
       "    </tr>\n",
       "    <tr>\n",
       "      <th>1</th>\n",
       "      <td>5754713551599725161</td>\n",
       "      <td>3412720377098676069</td>\n",
       "      <td>2072967855524022579;5131280576272319091;263639...</td>\n",
       "      <td>1975590437749032870</td>\n",
       "      <td>3948283326616421003</td>\n",
       "      <td>3</td>\n",
       "      <td>3</td>\n",
       "      <td>4</td>\n",
       "      <td>14</td>\n",
       "      <td>2692638157208937547</td>\n",
       "      <td>...</td>\n",
       "      <td>00:00:32</td>\n",
       "      <td>1</td>\n",
       "      <td>0</td>\n",
       "      <td>0</td>\n",
       "      <td>0</td>\n",
       "      <td>5799347067982556520</td>\n",
       "      <td>1.000000</td>\n",
       "      <td>1.0</td>\n",
       "      <td>0.2</td>\n",
       "      <td>0.045455</td>\n",
       "    </tr>\n",
       "    <tr>\n",
       "      <th>2</th>\n",
       "      <td>842679481291040981</td>\n",
       "      <td>3412720377098676069</td>\n",
       "      <td>2072967855524022579;5131280576272319091;263639...</td>\n",
       "      <td>1975590437749032870</td>\n",
       "      <td>3948283326616421003</td>\n",
       "      <td>3</td>\n",
       "      <td>3</td>\n",
       "      <td>4</td>\n",
       "      <td>14</td>\n",
       "      <td>5247924392014515924</td>\n",
       "      <td>...</td>\n",
       "      <td>15:04:12</td>\n",
       "      <td>0</td>\n",
       "      <td>0</td>\n",
       "      <td>1</td>\n",
       "      <td>0</td>\n",
       "      <td>5799347067982556520</td>\n",
       "      <td>0.666667</td>\n",
       "      <td>1.0</td>\n",
       "      <td>1.0</td>\n",
       "      <td>0.045455</td>\n",
       "    </tr>\n",
       "    <tr>\n",
       "      <th>3</th>\n",
       "      <td>937088850059189027</td>\n",
       "      <td>3412720377098676069</td>\n",
       "      <td>2072967855524022579;5131280576272319091;263639...</td>\n",
       "      <td>1975590437749032870</td>\n",
       "      <td>3948283326616421003</td>\n",
       "      <td>3</td>\n",
       "      <td>3</td>\n",
       "      <td>4</td>\n",
       "      <td>14</td>\n",
       "      <td>2681414445369714628</td>\n",
       "      <td>...</td>\n",
       "      <td>18:17:50</td>\n",
       "      <td>0</td>\n",
       "      <td>0</td>\n",
       "      <td>1</td>\n",
       "      <td>0</td>\n",
       "      <td>5799347067982556520</td>\n",
       "      <td>0.400000</td>\n",
       "      <td>1.0</td>\n",
       "      <td>0.0</td>\n",
       "      <td>0.000000</td>\n",
       "    </tr>\n",
       "    <tr>\n",
       "      <th>4</th>\n",
       "      <td>7975697065017708072</td>\n",
       "      <td>3412720377098676069</td>\n",
       "      <td>2072967855524022579;5131280576272319091;263639...</td>\n",
       "      <td>1975590437749032870</td>\n",
       "      <td>3948283326616421003</td>\n",
       "      <td>3</td>\n",
       "      <td>3</td>\n",
       "      <td>4</td>\n",
       "      <td>14</td>\n",
       "      <td>2729475788342039013</td>\n",
       "      <td>...</td>\n",
       "      <td>07:48:40</td>\n",
       "      <td>1</td>\n",
       "      <td>0</td>\n",
       "      <td>0</td>\n",
       "      <td>0</td>\n",
       "      <td>5799347067982556520</td>\n",
       "      <td>1.000000</td>\n",
       "      <td>1.0</td>\n",
       "      <td>1.0</td>\n",
       "      <td>0.045455</td>\n",
       "    </tr>\n",
       "  </tbody>\n",
       "</table>\n",
       "<p>5 rows × 38 columns</p>\n",
       "</div>"
      ],
      "text/plain": [
       "           instance_id              item_id  \\\n",
       "0   108641074714126964  3412720377098676069   \n",
       "1  5754713551599725161  3412720377098676069   \n",
       "2   842679481291040981  3412720377098676069   \n",
       "3   937088850059189027  3412720377098676069   \n",
       "4  7975697065017708072  3412720377098676069   \n",
       "\n",
       "                                  item_property_list        item_brand_id  \\\n",
       "0  2072967855524022579;5131280576272319091;263639...  1975590437749032870   \n",
       "1  2072967855524022579;5131280576272319091;263639...  1975590437749032870   \n",
       "2  2072967855524022579;5131280576272319091;263639...  1975590437749032870   \n",
       "3  2072967855524022579;5131280576272319091;263639...  1975590437749032870   \n",
       "4  2072967855524022579;5131280576272319091;263639...  1975590437749032870   \n",
       "\n",
       "          item_city_id  item_price_level  item_sales_level  \\\n",
       "0  3948283326616421003                 3                 3   \n",
       "1  3948283326616421003                 3                 3   \n",
       "2  3948283326616421003                 3                 3   \n",
       "3  3948283326616421003                 3                 3   \n",
       "4  3948283326616421003                 3                 3   \n",
       "\n",
       "   item_collected_level  item_pv_level              user_id     ...       \\\n",
       "0                     4             14  4505772604969228686     ...        \n",
       "1                     4             14  2692638157208937547     ...        \n",
       "2                     4             14  5247924392014515924     ...        \n",
       "3                     4             14  2681414445369714628     ...        \n",
       "4                     4             14  2729475788342039013     ...        \n",
       "\n",
       "       time  is_midnight  is_morning  is_afternoon  is_night  \\\n",
       "0  22:09:04            0           0             0         1   \n",
       "1  00:00:32            1           0             0         0   \n",
       "2  15:04:12            0           0             1         0   \n",
       "3  18:17:50            0           0             1         0   \n",
       "4  07:48:40            1           0             0         0   \n",
       "\n",
       "         item_category  cate_precision  cate_recall  prop_precision  \\\n",
       "0  5799347067982556520        0.400000          1.0             0.0   \n",
       "1  5799347067982556520        1.000000          1.0             0.2   \n",
       "2  5799347067982556520        0.666667          1.0             1.0   \n",
       "3  5799347067982556520        0.400000          1.0             0.0   \n",
       "4  5799347067982556520        1.000000          1.0             1.0   \n",
       "\n",
       "   prop_recall  \n",
       "0     0.000000  \n",
       "1     0.045455  \n",
       "2     0.045455  \n",
       "3     0.000000  \n",
       "4     0.045455  \n",
       "\n",
       "[5 rows x 38 columns]"
      ]
     },
     "execution_count": 27,
     "metadata": {},
     "output_type": "execute_result"
    }
   ],
   "source": [
    "train.head()"
   ]
  },
  {
   "cell_type": "code",
   "execution_count": 28,
   "metadata": {},
   "outputs": [
    {
     "data": {
      "text/plain": [
       "(478111, 38)"
      ]
     },
     "execution_count": 28,
     "metadata": {},
     "output_type": "execute_result"
    }
   ],
   "source": [
    "train.shape"
   ]
  },
  {
   "cell_type": "code",
   "execution_count": 29,
   "metadata": {},
   "outputs": [
    {
     "data": {
      "text/plain": [
       "(61259, 37)"
      ]
     },
     "execution_count": 29,
     "metadata": {},
     "output_type": "execute_result"
    }
   ],
   "source": [
    "test.shape"
   ]
  },
  {
   "cell_type": "code",
   "execution_count": null,
   "metadata": {},
   "outputs": [],
   "source": []
  }
 ],
 "metadata": {
  "kernelspec": {
   "display_name": "Python 3",
   "language": "python",
   "name": "python3"
  },
  "language_info": {
   "codemirror_mode": {
    "name": "ipython",
    "version": 3
   },
   "file_extension": ".py",
   "mimetype": "text/x-python",
   "name": "python",
   "nbconvert_exporter": "python",
   "pygments_lexer": "ipython3",
   "version": "3.6.5"
  }
 },
 "nbformat": 4,
 "nbformat_minor": 2
}
